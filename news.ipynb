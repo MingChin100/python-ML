{
  "nbformat": 4,
  "nbformat_minor": 0,
  "metadata": {
    "colab": {
      "name": "news.ipynb",
      "provenance": [],
      "mount_file_id": "1YofzfTyZDJCg-bHpiF849il8V5ovT2_I",
      "authorship_tag": "ABX9TyPRI7kQO70epSy9YoYy42ti",
      "include_colab_link": true
    },
    "kernelspec": {
      "name": "python3",
      "display_name": "Python 3"
    }
  },
  "cells": [
    {
      "cell_type": "markdown",
      "metadata": {
        "id": "view-in-github",
        "colab_type": "text"
      },
      "source": [
        "<a href=\"https://colab.research.google.com/github/MingChin100/python-ML/blob/master/news.ipynb\" target=\"_parent\"><img src=\"https://colab.research.google.com/assets/colab-badge.svg\" alt=\"Open In Colab\"/></a>"
      ]
    },
    {
      "cell_type": "code",
      "metadata": {
        "id": "wCXnHjKVyAG8",
        "colab_type": "code",
        "colab": {
          "base_uri": "https://localhost:8080/",
          "height": 55
        },
        "outputId": "e3f38543-5f5e-4219-b5de-2d4657732e87"
      },
      "source": [
        "from google.colab import drive\n",
        "drive.mount('/content/drive')"
      ],
      "execution_count": null,
      "outputs": [
        {
          "output_type": "stream",
          "text": [
            "Drive already mounted at /content/drive; to attempt to forcibly remount, call drive.mount(\"/content/drive\", force_remount=True).\n"
          ],
          "name": "stdout"
        }
      ]
    },
    {
      "cell_type": "code",
      "metadata": {
        "id": "shnv6V90ydlw",
        "colab_type": "code",
        "colab": {}
      },
      "source": [
        "import zipfile\n",
        "f = zipfile.ZipFile(\"drive/My Drive/0724test/chinese_news_trans.zip\")\n",
        "f.extractall(\"train\")\n",
        "f = zipfile.ZipFile(\"drive/My Drive/0724test/chinese_news_test.zip\")\n",
        "f.extractall(\"test\")"
      ],
      "execution_count": null,
      "outputs": []
    },
    {
      "cell_type": "code",
      "metadata": {
        "id": "53QBT2mhpdC4",
        "colab_type": "code",
        "colab": {}
      },
      "source": [
        "import glob\n",
        "import os\n",
        "import pandas as pd\n",
        "\n",
        "def getdf(targetdn):\n",
        "    datas = {\n",
        "        \"path\":[],\n",
        "        \"label\":[]\n",
        "    }\n",
        "    base = \"\"\n",
        "    p = os.path.join(base, targetdn, \"*\")\n",
        "    for dn in glob.glob(p):\n",
        "        name = os.path.split(dn)[-1]\n",
        "        fn = os.path.join(dn, \"*.[tT][xX][tT]\")\n",
        "        fns = glob.glob(fn)\n",
        "        datas[\"label\"] = datas[\"label\"] + [name] * len(fns)\n",
        "        datas[\"path\"] = datas[\"path\"] + fns\n",
        "    return pd.DataFrame(datas)"
      ],
      "execution_count": null,
      "outputs": []
    },
    {
      "cell_type": "code",
      "metadata": {
        "id": "7cgdtwBZt8Xt",
        "colab_type": "code",
        "colab": {}
      },
      "source": [
        "train_df = getdf(\"train/chinese_news_trans\")\n",
        "test_df = getdf(\"test/chinese_news_test\")"
      ],
      "execution_count": null,
      "outputs": []
    },
    {
      "cell_type": "code",
      "metadata": {
        "id": "ThE-3KOcuWTY",
        "colab_type": "code",
        "colab": {}
      },
      "source": [
        "def read_content(fn):\n",
        "    with open(fn, \"r\", encoding=\"utf-8\") as f:\n",
        "        content = f.read()\n",
        "    return content\n",
        "train_df[\"content\"] = train_df[\"path\"].apply(read_content)\n",
        "test_df[\"content\"] = test_df[\"path\"].apply(read_content)"
      ],
      "execution_count": null,
      "outputs": []
    },
    {
      "cell_type": "code",
      "metadata": {
        "id": "acS2oWYix-RO",
        "colab_type": "code",
        "colab": {
          "base_uri": "https://localhost:8080/",
          "height": 423
        },
        "outputId": "6b822cc0-2744-4932-bbe8-93b0ddb4ec0b"
      },
      "source": [
        "test_df"
      ],
      "execution_count": null,
      "outputs": [
        {
          "output_type": "execute_result",
          "data": {
            "text/html": [
              "<div>\n",
              "<style scoped>\n",
              "    .dataframe tbody tr th:only-of-type {\n",
              "        vertical-align: middle;\n",
              "    }\n",
              "\n",
              "    .dataframe tbody tr th {\n",
              "        vertical-align: top;\n",
              "    }\n",
              "\n",
              "    .dataframe thead th {\n",
              "        text-align: right;\n",
              "    }\n",
              "</style>\n",
              "<table border=\"1\" class=\"dataframe\">\n",
              "  <thead>\n",
              "    <tr style=\"text-align: right;\">\n",
              "      <th></th>\n",
              "      <th>path</th>\n",
              "      <th>label</th>\n",
              "      <th>content</th>\n",
              "    </tr>\n",
              "  </thead>\n",
              "  <tbody>\n",
              "    <tr>\n",
              "      <th>0</th>\n",
              "      <td>test/chinese_news_test/軍事/8240.txt</td>\n",
              "      <td>軍事</td>\n",
              "      <td>美海軍成功演示飛機在空中控制無人機(附圖) \\n\\n--------------------...</td>\n",
              "    </tr>\n",
              "    <tr>\n",
              "      <th>1</th>\n",
              "      <td>test/chinese_news_test/軍事/8249.txt</td>\n",
              "      <td>軍事</td>\n",
              "      <td>\\n軍事評論：“巴格達之戰”考驗美軍巷戰武器裝備(2) \\n\\n--------------...</td>\n",
              "    </tr>\n",
              "    <tr>\n",
              "      <th>2</th>\n",
              "      <td>test/chinese_news_test/軍事/8245.txt</td>\n",
              "      <td>軍事</td>\n",
              "      <td>軍事評論：美英聯軍地面作戰裝備特點分析(2) \\n\\n-------------------...</td>\n",
              "    </tr>\n",
              "    <tr>\n",
              "      <th>3</th>\n",
              "      <td>test/chinese_news_test/軍事/8244.txt</td>\n",
              "      <td>軍事</td>\n",
              "      <td>在伊拉克戰爭中使用的空襲精確制導彈藥(1) \\n\\n--------------------...</td>\n",
              "    </tr>\n",
              "    <tr>\n",
              "      <th>4</th>\n",
              "      <td>test/chinese_news_test/軍事/8247.txt</td>\n",
              "      <td>軍事</td>\n",
              "      <td>軍事評論：從巷戰或地道戰看單兵夜視裝備的發展 \\n\\n-------------------...</td>\n",
              "    </tr>\n",
              "    <tr>\n",
              "      <th>...</th>\n",
              "      <td>...</td>\n",
              "      <td>...</td>\n",
              "      <td>...</td>\n",
              "    </tr>\n",
              "    <tr>\n",
              "      <th>96</th>\n",
              "      <td>test/chinese_news_test/政治/9505.TXT</td>\n",
              "      <td>政治</td>\n",
              "      <td>楊主席提出促進中拉關係的５項建議\\n新華社蒙得維的亞５月２３日電正在這...</td>\n",
              "    </tr>\n",
              "    <tr>\n",
              "      <th>97</th>\n",
              "      <td>test/chinese_news_test/政治/9501.TXT</td>\n",
              "      <td>政治</td>\n",
              "      <td>阿拉伯外長會議閉幕\\n新華社巴格達５月２４日電為期２天的阿拉伯外長會\\...</td>\n",
              "    </tr>\n",
              "    <tr>\n",
              "      <th>98</th>\n",
              "      <td>test/chinese_news_test/政治/9500.TXT</td>\n",
              "      <td>政治</td>\n",
              "      <td>外事簡訊\\n新華社北京５月２４日電外事簡訊\\n    全國人大常委會副...</td>\n",
              "    </tr>\n",
              "    <tr>\n",
              "      <th>99</th>\n",
              "      <td>test/chinese_news_test/政治/9497.TXT</td>\n",
              "      <td>政治</td>\n",
              "      <td>第３次安第斯集團首腦會議閉幕\\n新華社庫斯科（祕魯）５月２３日電第３次...</td>\n",
              "    </tr>\n",
              "    <tr>\n",
              "      <th>100</th>\n",
              "      <td>test/chinese_news_test/政治/9503.TXT</td>\n",
              "      <td>政治</td>\n",
              "      <td>ＡＡ０５５\\n金日成指出朝鮮北方堅持以聯邦制統一國家\\n    (4)內容: ...</td>\n",
              "    </tr>\n",
              "  </tbody>\n",
              "</table>\n",
              "<p>101 rows × 3 columns</p>\n",
              "</div>"
            ],
            "text/plain": [
              "                                   path  ...                                            content\n",
              "0    test/chinese_news_test/軍事/8240.txt  ...  美海軍成功演示飛機在空中控制無人機(附圖) \\n\\n--------------------...\n",
              "1    test/chinese_news_test/軍事/8249.txt  ...  \\n軍事評論：“巴格達之戰”考驗美軍巷戰武器裝備(2) \\n\\n--------------...\n",
              "2    test/chinese_news_test/軍事/8245.txt  ...  軍事評論：美英聯軍地面作戰裝備特點分析(2) \\n\\n-------------------...\n",
              "3    test/chinese_news_test/軍事/8244.txt  ...  在伊拉克戰爭中使用的空襲精確制導彈藥(1) \\n\\n--------------------...\n",
              "4    test/chinese_news_test/軍事/8247.txt  ...  軍事評論：從巷戰或地道戰看單兵夜視裝備的發展 \\n\\n-------------------...\n",
              "..                                  ...  ...                                                ...\n",
              "96   test/chinese_news_test/政治/9505.TXT  ...             楊主席提出促進中拉關係的５項建議\\n新華社蒙得維的亞５月２３日電正在這...\n",
              "97   test/chinese_news_test/政治/9501.TXT  ...             阿拉伯外長會議閉幕\\n新華社巴格達５月２４日電為期２天的阿拉伯外長會\\...\n",
              "98   test/chinese_news_test/政治/9500.TXT  ...             外事簡訊\\n新華社北京５月２４日電外事簡訊\\n    全國人大常委會副...\n",
              "99   test/chinese_news_test/政治/9497.TXT  ...             第３次安第斯集團首腦會議閉幕\\n新華社庫斯科（祕魯）５月２３日電第３次...\n",
              "100  test/chinese_news_test/政治/9503.TXT  ...         ＡＡ０５５\\n金日成指出朝鮮北方堅持以聯邦制統一國家\\n    (4)內容: ...\n",
              "\n",
              "[101 rows x 3 columns]"
            ]
          },
          "metadata": {
            "tags": []
          },
          "execution_count": 32
        }
      ]
    },
    {
      "cell_type": "code",
      "metadata": {
        "id": "Go1mZzZLz4rY",
        "colab_type": "code",
        "colab": {}
      },
      "source": [
        "u = train_df[\"label\"].unique()\n",
        "trans = {n:i for i, n in enumerate(u)}\n",
        "trans_r = {i:n for i, n in enumerate(u)}\n",
        "y_train = train_df[\"label\"].replace(trans)\n",
        "y_test = test_df[\"label\"].replace(trans)"
      ],
      "execution_count": null,
      "outputs": []
    },
    {
      "cell_type": "code",
      "metadata": {
        "id": "b80zYaCs12_l",
        "colab_type": "code",
        "colab": {
          "base_uri": "https://localhost:8080/",
          "height": 177
        },
        "outputId": "eb976f47-8907-47f2-cbb3-d255fb1fa040"
      },
      "source": [
        "import jieba\n",
        "p = train_df.iloc[0][\"content\"]\n",
        "\" \".join(jieba.cut(p))"
      ],
      "execution_count": null,
      "outputs": [
        {
          "output_type": "execute_result",
          "data": {
            "application/vnd.google.colaboratory.intrinsic+json": {
              "type": "string"
            },
            "text/plain": [
              "'                      古巴 宣 佈 舉行 軍事 演習 \\n 新華社 哈瓦那 ５ 月 １ 日電 古巴 革命 武裝部 今晚 發表公 \\n                           報宣 佈 ， 古巴 將從 ５ 月 ２ 日起 舉行 軍事 演習 ， 以 對 抗美國 \\n                           舉行 的 針對 古巴 的 大規模 軍事 演習 。 \\n                                   公報 說 ， 參加 這次 代號 為 “ 古巴 之盾 ” 軍事 演習 的 ， \\n                           除了 古巴 正規部隊 之外 ， 還有 民兵 。 \\n                                   據 古巴 革命 武裝部 ４ 月 ２ ９ 日 揭露 ， 美國 從 ５ 月 １ 日 \\n                           至 ５ 日 在 鄰近 古巴 領海 的 水域 同時 舉行 “ 海洋 冒險 ” 等 ３ \\n                           個 軍事 演習 。 參 加演 習 的 美軍有 第 ８ ２ 空降 師 ， 第 １ ０ １ \\n                           空襲師 和 第 ２ ４ 機械化 步兵 師 ， 數 百架 戰鬥機 和 轟炸機 ， \\n                           以及 許多 戰艦 。 \\n                                   另據 古巴 官方消息 說 ， 美國 ４ 月 ３ ０ 日 又 向 它 霸 佔 的 \\n                           古巴 關 塔那摩 海 軍 基地 增派 了 艦艇 ， 使在關 塔那摩 海軍基 \\n                           地 的 美國 軍艦 達 到 １ ２ 艘 。 （ 完 ） \\n \\n'"
            ]
          },
          "metadata": {
            "tags": []
          },
          "execution_count": 37
        }
      ]
    },
    {
      "cell_type": "code",
      "metadata": {
        "id": "LDtCkc0H2BmE",
        "colab_type": "code",
        "colab": {
          "base_uri": "https://localhost:8080/",
          "height": 229
        },
        "outputId": "81244600-58de-4a51-a55f-1b4668d36ccd"
      },
      "source": [
        "def newscut(p):\n",
        "  return \" \".join(jieba.cut(p))\n",
        "x_train = train_df[\"content\"].apply(newscut)\n",
        "x_test = test_df[\"content\"].apply(newscut)\n",
        "x_test"
      ],
      "execution_count": null,
      "outputs": [
        {
          "output_type": "execute_result",
          "data": {
            "text/plain": [
              "0      美海 軍 成功 演示 飛機 在 空中 控制 無人機 ( 附圖 )   \\n \\n -----...\n",
              "1      \\n 軍事 評論 ： “ 巴格 達之戰 ” 考驗 美軍巷 戰 武器 裝備 ( 2 )   \\...\n",
              "2      軍事 評論 ： 美英 聯 軍 地面 作戰 裝備 特點 分析 ( 2 )   \\n \\n --...\n",
              "3      在 伊拉克 戰爭 中 使用 的 空襲 精確 制導 彈藥 ( 1 )   \\n \\n ----...\n",
              "4      軍事 評論 ： 從 巷戰 或 地道 戰看 單兵 夜視 裝備 的 發展   \\n \\n ---...\n",
              "                             ...                        \n",
              "96                           楊 主席 提出 促進 中拉關 係 的 ５ 項建議...\n",
              "97                           阿拉伯 外長 會議 閉幕 \\n 新華社 巴格 達...\n",
              "98                           外事 簡訊 \\n 新華社 北京 ５ 月 ２ ４ ...\n",
              "99                           第 ３ 次 安第斯 集團首 腦會議 閉幕 \\n ...\n",
              "100                  Ａ Ａ ０ ５ ５ \\n 金日成 指出 朝鮮 北方 堅持 以 聯...\n",
              "Name: content, Length: 101, dtype: object"
            ]
          },
          "metadata": {
            "tags": []
          },
          "execution_count": 40
        }
      ]
    },
    {
      "cell_type": "code",
      "metadata": {
        "id": "ueuWcgnN2P4E",
        "colab_type": "code",
        "colab": {}
      },
      "source": [
        "from sklearn.feature_extraction.text import CountVectorizer\n",
        "vec = CountVectorizer()\n",
        "x_train_count = vec.fit_transform(x_train)\n",
        "x_test_count = vec.transform(x_test)"
      ],
      "execution_count": null,
      "outputs": []
    },
    {
      "cell_type": "code",
      "metadata": {
        "id": "MSfLPMyC2WwB",
        "colab_type": "code",
        "colab": {
          "base_uri": "https://localhost:8080/",
          "height": 35
        },
        "outputId": "5cbc5a6b-cdd4-4fe1-d974-8c6854c30d88"
      },
      "source": [
        "from sklearn.naive_bayes import MultinomialNB\n",
        "clf = MultinomialNB()\n",
        "clf.fit(x_train_count, y_train)"
      ],
      "execution_count": null,
      "outputs": [
        {
          "output_type": "execute_result",
          "data": {
            "text/plain": [
              "MultinomialNB(alpha=1.0, class_prior=None, fit_prior=True)"
            ]
          },
          "metadata": {
            "tags": []
          },
          "execution_count": 42
        }
      ]
    },
    {
      "cell_type": "code",
      "metadata": {
        "id": "VaP_J_A12aoB",
        "colab_type": "code",
        "colab": {
          "base_uri": "https://localhost:8080/",
          "height": 35
        },
        "outputId": "d6b873a1-abd9-4183-e70f-78cd744fd31f"
      },
      "source": [
        "from sklearn.metrics import accuracy_score\n",
        "pre = clf.predict(x_test_count)\n",
        "accuracy_score(pre, y_test)"
      ],
      "execution_count": null,
      "outputs": [
        {
          "output_type": "execute_result",
          "data": {
            "text/plain": [
              "1.0"
            ]
          },
          "metadata": {
            "tags": []
          },
          "execution_count": 44
        }
      ]
    },
    {
      "cell_type": "code",
      "metadata": {
        "id": "pZFZr0kP2eXx",
        "colab_type": "code",
        "colab": {
          "base_uri": "https://localhost:8080/",
          "height": 554
        },
        "outputId": "dc0b9ccd-3969-4cb0-e39d-73d1339b9ff4"
      },
      "source": [
        "from sklearn.metrics import confusion_matrix\n",
        "mat = confusion_matrix(y_test, pre)\n",
        "pd.DataFrame(mat, columns=[n+\"(預測值)\"for n in u], index=[n+\"真實\" for n in u])"
      ],
      "execution_count": null,
      "outputs": [
        {
          "output_type": "execute_result",
          "data": {
            "text/html": [
              "<div>\n",
              "<style scoped>\n",
              "    .dataframe tbody tr th:only-of-type {\n",
              "        vertical-align: middle;\n",
              "    }\n",
              "\n",
              "    .dataframe tbody tr th {\n",
              "        vertical-align: top;\n",
              "    }\n",
              "\n",
              "    .dataframe thead th {\n",
              "        text-align: right;\n",
              "    }\n",
              "</style>\n",
              "<table border=\"1\" class=\"dataframe\">\n",
              "  <thead>\n",
              "    <tr style=\"text-align: right;\">\n",
              "      <th></th>\n",
              "      <th>軍事(預測值)</th>\n",
              "      <th>交通(預測值)</th>\n",
              "      <th>計算機(預測值)</th>\n",
              "      <th>環境(預測值)</th>\n",
              "      <th>藝術(預測值)</th>\n",
              "      <th>醫藥(預測值)</th>\n",
              "      <th>教育(預測值)</th>\n",
              "      <th>經濟(預測值)</th>\n",
              "      <th>體育(預測值)</th>\n",
              "      <th>政治(預測值)</th>\n",
              "    </tr>\n",
              "  </thead>\n",
              "  <tbody>\n",
              "    <tr>\n",
              "      <th>軍事真實</th>\n",
              "      <td>10</td>\n",
              "      <td>0</td>\n",
              "      <td>0</td>\n",
              "      <td>0</td>\n",
              "      <td>0</td>\n",
              "      <td>0</td>\n",
              "      <td>0</td>\n",
              "      <td>0</td>\n",
              "      <td>0</td>\n",
              "      <td>0</td>\n",
              "    </tr>\n",
              "    <tr>\n",
              "      <th>交通真實</th>\n",
              "      <td>0</td>\n",
              "      <td>10</td>\n",
              "      <td>0</td>\n",
              "      <td>0</td>\n",
              "      <td>0</td>\n",
              "      <td>0</td>\n",
              "      <td>0</td>\n",
              "      <td>0</td>\n",
              "      <td>0</td>\n",
              "      <td>0</td>\n",
              "    </tr>\n",
              "    <tr>\n",
              "      <th>計算機真實</th>\n",
              "      <td>0</td>\n",
              "      <td>0</td>\n",
              "      <td>10</td>\n",
              "      <td>0</td>\n",
              "      <td>0</td>\n",
              "      <td>0</td>\n",
              "      <td>0</td>\n",
              "      <td>0</td>\n",
              "      <td>0</td>\n",
              "      <td>0</td>\n",
              "    </tr>\n",
              "    <tr>\n",
              "      <th>環境真實</th>\n",
              "      <td>0</td>\n",
              "      <td>0</td>\n",
              "      <td>0</td>\n",
              "      <td>10</td>\n",
              "      <td>0</td>\n",
              "      <td>0</td>\n",
              "      <td>0</td>\n",
              "      <td>0</td>\n",
              "      <td>0</td>\n",
              "      <td>0</td>\n",
              "    </tr>\n",
              "    <tr>\n",
              "      <th>藝術真實</th>\n",
              "      <td>0</td>\n",
              "      <td>0</td>\n",
              "      <td>0</td>\n",
              "      <td>0</td>\n",
              "      <td>10</td>\n",
              "      <td>0</td>\n",
              "      <td>0</td>\n",
              "      <td>0</td>\n",
              "      <td>0</td>\n",
              "      <td>0</td>\n",
              "    </tr>\n",
              "    <tr>\n",
              "      <th>醫藥真實</th>\n",
              "      <td>0</td>\n",
              "      <td>0</td>\n",
              "      <td>0</td>\n",
              "      <td>0</td>\n",
              "      <td>0</td>\n",
              "      <td>10</td>\n",
              "      <td>0</td>\n",
              "      <td>0</td>\n",
              "      <td>0</td>\n",
              "      <td>0</td>\n",
              "    </tr>\n",
              "    <tr>\n",
              "      <th>教育真實</th>\n",
              "      <td>0</td>\n",
              "      <td>0</td>\n",
              "      <td>0</td>\n",
              "      <td>0</td>\n",
              "      <td>0</td>\n",
              "      <td>0</td>\n",
              "      <td>10</td>\n",
              "      <td>0</td>\n",
              "      <td>0</td>\n",
              "      <td>0</td>\n",
              "    </tr>\n",
              "    <tr>\n",
              "      <th>經濟真實</th>\n",
              "      <td>0</td>\n",
              "      <td>0</td>\n",
              "      <td>0</td>\n",
              "      <td>0</td>\n",
              "      <td>0</td>\n",
              "      <td>0</td>\n",
              "      <td>0</td>\n",
              "      <td>10</td>\n",
              "      <td>0</td>\n",
              "      <td>0</td>\n",
              "    </tr>\n",
              "    <tr>\n",
              "      <th>體育真實</th>\n",
              "      <td>0</td>\n",
              "      <td>0</td>\n",
              "      <td>0</td>\n",
              "      <td>0</td>\n",
              "      <td>0</td>\n",
              "      <td>0</td>\n",
              "      <td>0</td>\n",
              "      <td>0</td>\n",
              "      <td>10</td>\n",
              "      <td>0</td>\n",
              "    </tr>\n",
              "    <tr>\n",
              "      <th>政治真實</th>\n",
              "      <td>0</td>\n",
              "      <td>0</td>\n",
              "      <td>0</td>\n",
              "      <td>0</td>\n",
              "      <td>0</td>\n",
              "      <td>0</td>\n",
              "      <td>0</td>\n",
              "      <td>0</td>\n",
              "      <td>0</td>\n",
              "      <td>11</td>\n",
              "    </tr>\n",
              "  </tbody>\n",
              "</table>\n",
              "</div>"
            ],
            "text/plain": [
              "       軍事(預測值)  交通(預測值)  計算機(預測值)  環境(預測值)  ...  教育(預測值)  經濟(預測值)  體育(預測值)  政治(預測值)\n",
              "軍事真實        10        0         0        0  ...        0        0        0        0\n",
              "交通真實         0       10         0        0  ...        0        0        0        0\n",
              "計算機真實        0        0        10        0  ...        0        0        0        0\n",
              "環境真實         0        0         0       10  ...        0        0        0        0\n",
              "藝術真實         0        0         0        0  ...        0        0        0        0\n",
              "醫藥真實         0        0         0        0  ...        0        0        0        0\n",
              "教育真實         0        0         0        0  ...       10        0        0        0\n",
              "經濟真實         0        0         0        0  ...        0       10        0        0\n",
              "體育真實         0        0         0        0  ...        0        0       10        0\n",
              "政治真實         0        0         0        0  ...        0        0        0       11\n",
              "\n",
              "[10 rows x 10 columns]"
            ]
          },
          "metadata": {
            "tags": []
          },
          "execution_count": 46
        }
      ]
    },
    {
      "cell_type": "code",
      "metadata": {
        "id": "J09hfxJo2jBS",
        "colab_type": "code",
        "colab": {
          "base_uri": "https://localhost:8080/",
          "height": 229
        },
        "outputId": "777c01f9-b790-454a-ca4f-d1e1c4319ba7"
      },
      "source": [
        "test = input(\"輸入一則新聞:\")\n",
        "count = vec.transform([newscut(test)])\n",
        "answer = clf.predict(count)[0]\n",
        "proba = clf.predict_proba(count)[0]\n",
        "for name, p in zip(u, proba):\n",
        "    print(name, \"的機率:\", p)\n",
        "print(\"答案:\", trans_r[answer])"
      ],
      "execution_count": null,
      "outputs": [
        {
          "output_type": "stream",
          "text": [
            "輸入一則新聞:小美\n",
            "軍事 的機率: 0.08722032612817597\n",
            "交通 的機率: 0.06977626090254077\n",
            "計算機 的機率: 0.06674251042851723\n",
            "環境 的機率: 0.06901782328403487\n",
            "藝術 的機率: 0.08797876374668182\n",
            "醫藥 的機率: 0.07356844899507016\n",
            "教育 的機率: 0.07811907470610543\n",
            "經濟 的機率: 0.11376564277588165\n",
            "體育 的機率: 0.1664770572620402\n",
            "政治 的機率: 0.1873340917709519\n",
            "答案: 政治\n"
          ],
          "name": "stdout"
        }
      ]
    }
  ]
}
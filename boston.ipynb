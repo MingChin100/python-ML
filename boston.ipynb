{
  "nbformat": 4,
  "nbformat_minor": 0,
  "metadata": {
    "colab": {
      "name": "boston.ipynb",
      "provenance": [],
      "collapsed_sections": [],
      "mount_file_id": "1-vcU2Twq_TqY5lEm_6xLekcmt0tCusbl",
      "authorship_tag": "ABX9TyNLjYI5EAgCiFwP7AsgOGJv",
      "include_colab_link": true
    },
    "kernelspec": {
      "name": "python3",
      "display_name": "Python 3"
    }
  },
  "cells": [
    {
      "cell_type": "markdown",
      "metadata": {
        "id": "view-in-github",
        "colab_type": "text"
      },
      "source": [
        "<a href=\"https://colab.research.google.com/github/MingChin100/python-ML/blob/master/boston.ipynb\" target=\"_parent\"><img src=\"https://colab.research.google.com/assets/colab-badge.svg\" alt=\"Open In Colab\"/></a>"
      ]
    },
    {
      "cell_type": "code",
      "metadata": {
        "id": "OSDdMdYLOSi3",
        "colab_type": "code",
        "colab": {}
      },
      "source": [
        "!pip install scikit-learn"
      ],
      "execution_count": null,
      "outputs": []
    },
    {
      "cell_type": "code",
      "metadata": {
        "id": "Q54y1ydVcoQa",
        "colab_type": "code",
        "colab": {
          "base_uri": "https://localhost:8080/",
          "height": 410
        },
        "outputId": "bfd4cea5-1702-427a-b8e3-a51d5e8422f1"
      },
      "source": [
        "import pandas as pd\n",
        "from sklearn.datasets import load_boston\n",
        "boston=load_boston()\n",
        "df=pd.DataFrame(boston[\"data\"],\n",
        "                columns=boston[\"feature_names\"])\n",
        "df[\"answer\"] = boston[\"target\"]\n",
        "df.to_csv(\"boston.csv\", encoding=\"utf8\", index=False)\n",
        "df"
      ],
      "execution_count": null,
      "outputs": [
        {
          "output_type": "execute_result",
          "data": {
            "text/html": [
              "<div>\n",
              "<style scoped>\n",
              "    .dataframe tbody tr th:only-of-type {\n",
              "        vertical-align: middle;\n",
              "    }\n",
              "\n",
              "    .dataframe tbody tr th {\n",
              "        vertical-align: top;\n",
              "    }\n",
              "\n",
              "    .dataframe thead th {\n",
              "        text-align: right;\n",
              "    }\n",
              "</style>\n",
              "<table border=\"1\" class=\"dataframe\">\n",
              "  <thead>\n",
              "    <tr style=\"text-align: right;\">\n",
              "      <th></th>\n",
              "      <th>CRIM</th>\n",
              "      <th>ZN</th>\n",
              "      <th>INDUS</th>\n",
              "      <th>CHAS</th>\n",
              "      <th>NOX</th>\n",
              "      <th>RM</th>\n",
              "      <th>AGE</th>\n",
              "      <th>DIS</th>\n",
              "      <th>RAD</th>\n",
              "      <th>TAX</th>\n",
              "      <th>PTRATIO</th>\n",
              "      <th>B</th>\n",
              "      <th>LSTAT</th>\n",
              "      <th>answer</th>\n",
              "    </tr>\n",
              "  </thead>\n",
              "  <tbody>\n",
              "    <tr>\n",
              "      <th>0</th>\n",
              "      <td>0.00632</td>\n",
              "      <td>18.0</td>\n",
              "      <td>2.31</td>\n",
              "      <td>0.0</td>\n",
              "      <td>0.538</td>\n",
              "      <td>6.575</td>\n",
              "      <td>65.2</td>\n",
              "      <td>4.0900</td>\n",
              "      <td>1.0</td>\n",
              "      <td>296.0</td>\n",
              "      <td>15.3</td>\n",
              "      <td>396.90</td>\n",
              "      <td>4.98</td>\n",
              "      <td>24.0</td>\n",
              "    </tr>\n",
              "    <tr>\n",
              "      <th>1</th>\n",
              "      <td>0.02731</td>\n",
              "      <td>0.0</td>\n",
              "      <td>7.07</td>\n",
              "      <td>0.0</td>\n",
              "      <td>0.469</td>\n",
              "      <td>6.421</td>\n",
              "      <td>78.9</td>\n",
              "      <td>4.9671</td>\n",
              "      <td>2.0</td>\n",
              "      <td>242.0</td>\n",
              "      <td>17.8</td>\n",
              "      <td>396.90</td>\n",
              "      <td>9.14</td>\n",
              "      <td>21.6</td>\n",
              "    </tr>\n",
              "    <tr>\n",
              "      <th>2</th>\n",
              "      <td>0.02729</td>\n",
              "      <td>0.0</td>\n",
              "      <td>7.07</td>\n",
              "      <td>0.0</td>\n",
              "      <td>0.469</td>\n",
              "      <td>7.185</td>\n",
              "      <td>61.1</td>\n",
              "      <td>4.9671</td>\n",
              "      <td>2.0</td>\n",
              "      <td>242.0</td>\n",
              "      <td>17.8</td>\n",
              "      <td>392.83</td>\n",
              "      <td>4.03</td>\n",
              "      <td>34.7</td>\n",
              "    </tr>\n",
              "    <tr>\n",
              "      <th>3</th>\n",
              "      <td>0.03237</td>\n",
              "      <td>0.0</td>\n",
              "      <td>2.18</td>\n",
              "      <td>0.0</td>\n",
              "      <td>0.458</td>\n",
              "      <td>6.998</td>\n",
              "      <td>45.8</td>\n",
              "      <td>6.0622</td>\n",
              "      <td>3.0</td>\n",
              "      <td>222.0</td>\n",
              "      <td>18.7</td>\n",
              "      <td>394.63</td>\n",
              "      <td>2.94</td>\n",
              "      <td>33.4</td>\n",
              "    </tr>\n",
              "    <tr>\n",
              "      <th>4</th>\n",
              "      <td>0.06905</td>\n",
              "      <td>0.0</td>\n",
              "      <td>2.18</td>\n",
              "      <td>0.0</td>\n",
              "      <td>0.458</td>\n",
              "      <td>7.147</td>\n",
              "      <td>54.2</td>\n",
              "      <td>6.0622</td>\n",
              "      <td>3.0</td>\n",
              "      <td>222.0</td>\n",
              "      <td>18.7</td>\n",
              "      <td>396.90</td>\n",
              "      <td>5.33</td>\n",
              "      <td>36.2</td>\n",
              "    </tr>\n",
              "    <tr>\n",
              "      <th>...</th>\n",
              "      <td>...</td>\n",
              "      <td>...</td>\n",
              "      <td>...</td>\n",
              "      <td>...</td>\n",
              "      <td>...</td>\n",
              "      <td>...</td>\n",
              "      <td>...</td>\n",
              "      <td>...</td>\n",
              "      <td>...</td>\n",
              "      <td>...</td>\n",
              "      <td>...</td>\n",
              "      <td>...</td>\n",
              "      <td>...</td>\n",
              "      <td>...</td>\n",
              "    </tr>\n",
              "    <tr>\n",
              "      <th>501</th>\n",
              "      <td>0.06263</td>\n",
              "      <td>0.0</td>\n",
              "      <td>11.93</td>\n",
              "      <td>0.0</td>\n",
              "      <td>0.573</td>\n",
              "      <td>6.593</td>\n",
              "      <td>69.1</td>\n",
              "      <td>2.4786</td>\n",
              "      <td>1.0</td>\n",
              "      <td>273.0</td>\n",
              "      <td>21.0</td>\n",
              "      <td>391.99</td>\n",
              "      <td>9.67</td>\n",
              "      <td>22.4</td>\n",
              "    </tr>\n",
              "    <tr>\n",
              "      <th>502</th>\n",
              "      <td>0.04527</td>\n",
              "      <td>0.0</td>\n",
              "      <td>11.93</td>\n",
              "      <td>0.0</td>\n",
              "      <td>0.573</td>\n",
              "      <td>6.120</td>\n",
              "      <td>76.7</td>\n",
              "      <td>2.2875</td>\n",
              "      <td>1.0</td>\n",
              "      <td>273.0</td>\n",
              "      <td>21.0</td>\n",
              "      <td>396.90</td>\n",
              "      <td>9.08</td>\n",
              "      <td>20.6</td>\n",
              "    </tr>\n",
              "    <tr>\n",
              "      <th>503</th>\n",
              "      <td>0.06076</td>\n",
              "      <td>0.0</td>\n",
              "      <td>11.93</td>\n",
              "      <td>0.0</td>\n",
              "      <td>0.573</td>\n",
              "      <td>6.976</td>\n",
              "      <td>91.0</td>\n",
              "      <td>2.1675</td>\n",
              "      <td>1.0</td>\n",
              "      <td>273.0</td>\n",
              "      <td>21.0</td>\n",
              "      <td>396.90</td>\n",
              "      <td>5.64</td>\n",
              "      <td>23.9</td>\n",
              "    </tr>\n",
              "    <tr>\n",
              "      <th>504</th>\n",
              "      <td>0.10959</td>\n",
              "      <td>0.0</td>\n",
              "      <td>11.93</td>\n",
              "      <td>0.0</td>\n",
              "      <td>0.573</td>\n",
              "      <td>6.794</td>\n",
              "      <td>89.3</td>\n",
              "      <td>2.3889</td>\n",
              "      <td>1.0</td>\n",
              "      <td>273.0</td>\n",
              "      <td>21.0</td>\n",
              "      <td>393.45</td>\n",
              "      <td>6.48</td>\n",
              "      <td>22.0</td>\n",
              "    </tr>\n",
              "    <tr>\n",
              "      <th>505</th>\n",
              "      <td>0.04741</td>\n",
              "      <td>0.0</td>\n",
              "      <td>11.93</td>\n",
              "      <td>0.0</td>\n",
              "      <td>0.573</td>\n",
              "      <td>6.030</td>\n",
              "      <td>80.8</td>\n",
              "      <td>2.5050</td>\n",
              "      <td>1.0</td>\n",
              "      <td>273.0</td>\n",
              "      <td>21.0</td>\n",
              "      <td>396.90</td>\n",
              "      <td>7.88</td>\n",
              "      <td>11.9</td>\n",
              "    </tr>\n",
              "  </tbody>\n",
              "</table>\n",
              "<p>506 rows × 14 columns</p>\n",
              "</div>"
            ],
            "text/plain": [
              "        CRIM    ZN  INDUS  CHAS    NOX  ...    TAX  PTRATIO       B  LSTAT  answer\n",
              "0    0.00632  18.0   2.31   0.0  0.538  ...  296.0     15.3  396.90   4.98    24.0\n",
              "1    0.02731   0.0   7.07   0.0  0.469  ...  242.0     17.8  396.90   9.14    21.6\n",
              "2    0.02729   0.0   7.07   0.0  0.469  ...  242.0     17.8  392.83   4.03    34.7\n",
              "3    0.03237   0.0   2.18   0.0  0.458  ...  222.0     18.7  394.63   2.94    33.4\n",
              "4    0.06905   0.0   2.18   0.0  0.458  ...  222.0     18.7  396.90   5.33    36.2\n",
              "..       ...   ...    ...   ...    ...  ...    ...      ...     ...    ...     ...\n",
              "501  0.06263   0.0  11.93   0.0  0.573  ...  273.0     21.0  391.99   9.67    22.4\n",
              "502  0.04527   0.0  11.93   0.0  0.573  ...  273.0     21.0  396.90   9.08    20.6\n",
              "503  0.06076   0.0  11.93   0.0  0.573  ...  273.0     21.0  396.90   5.64    23.9\n",
              "504  0.10959   0.0  11.93   0.0  0.573  ...  273.0     21.0  393.45   6.48    22.0\n",
              "505  0.04741   0.0  11.93   0.0  0.573  ...  273.0     21.0  396.90   7.88    11.9\n",
              "\n",
              "[506 rows x 14 columns]"
            ]
          },
          "metadata": {
            "tags": []
          },
          "execution_count": 1
        }
      ]
    },
    {
      "cell_type": "code",
      "metadata": {
        "id": "QLCeeLkYPyFz",
        "colab_type": "code",
        "colab": {}
      },
      "source": [
        "from sklearn.model_selection import train_test_split\n",
        "# [90% data, 10%data, 90% target, 10% target]\n",
        "x_train, x_test, y_train, y_test  = train_test_split(boston[\"data\"],\n",
        "                                                    boston[\"target\"],\n",
        "                                                    test_size=0.1)"
      ],
      "execution_count": null,
      "outputs": []
    },
    {
      "cell_type": "code",
      "metadata": {
        "id": "tm0C2xHKSJch",
        "colab_type": "code",
        "colab": {
          "base_uri": "https://localhost:8080/",
          "height": 122
        },
        "outputId": "563bc871-fc03-40d8-a38a-d678ee7e66fd"
      },
      "source": [
        "from sklearn.tree import DecisionTreeRegressor\n",
        "reg = DecisionTreeRegressor(max_depth=5, random_state=0)\n",
        "reg.fit(x_train, y_train)"
      ],
      "execution_count": null,
      "outputs": [
        {
          "output_type": "execute_result",
          "data": {
            "text/plain": [
              "DecisionTreeRegressor(ccp_alpha=0.0, criterion='mse', max_depth=5,\n",
              "                      max_features=None, max_leaf_nodes=None,\n",
              "                      min_impurity_decrease=0.0, min_impurity_split=None,\n",
              "                      min_samples_leaf=1, min_samples_split=2,\n",
              "                      min_weight_fraction_leaf=0.0, presort='deprecated',\n",
              "                      random_state=0, splitter='best')"
            ]
          },
          "metadata": {
            "tags": []
          },
          "execution_count": 10
        }
      ]
    },
    {
      "cell_type": "code",
      "metadata": {
        "id": "ObcVPvBJTpWm",
        "colab_type": "code",
        "colab": {
          "base_uri": "https://localhost:8080/",
          "height": 654
        },
        "outputId": "275886b6-1443-4a01-9886-1e2d7c9befd3"
      },
      "source": [
        "import graphviz\n",
        "from sklearn.tree import export_graphviz\n",
        "g = export_graphviz(reg,\n",
        "                    feature_names=boston[\"feature_names\"],\n",
        "                    filled=True,\n",
        "                    max_depth=3)\n",
        "graphviz.Source(g)"
      ],
      "execution_count": null,
      "outputs": [
        {
          "output_type": "execute_result",
          "data": {
            "text/plain": [
              "<graphviz.files.Source at 0x7f621a6dbe48>"
            ],
            "image/svg+xml": "<?xml version=\"1.0\" encoding=\"UTF-8\" standalone=\"no\"?>\n<!DOCTYPE svg PUBLIC \"-//W3C//DTD SVG 1.1//EN\"\n \"http://www.w3.org/Graphics/SVG/1.1/DTD/svg11.dtd\">\n<!-- Generated by graphviz version 2.40.1 (20161225.0304)\n -->\n<!-- Title: Tree Pages: 1 -->\n<svg width=\"1056pt\" height=\"460pt\"\n viewBox=\"0.00 0.00 1055.50 460.00\" xmlns=\"http://www.w3.org/2000/svg\" xmlns:xlink=\"http://www.w3.org/1999/xlink\">\n<g id=\"graph0\" class=\"graph\" transform=\"scale(1 1) rotate(0) translate(4 456)\">\n<title>Tree</title>\n<polygon fill=\"#ffffff\" stroke=\"transparent\" points=\"-4,4 -4,-456 1051.5,-456 1051.5,4 -4,4\"/>\n<!-- 0 -->\n<g id=\"node1\" class=\"node\">\n<title>0</title>\n<polygon fill=\"#f6d5bd\" stroke=\"#000000\" points=\"478.5,-452 368.5,-452 368.5,-384 478.5,-384 478.5,-452\"/>\n<text text-anchor=\"middle\" x=\"423.5\" y=\"-436.8\" font-family=\"Times,serif\" font-size=\"14.00\" fill=\"#000000\">LSTAT &lt;= 9.63</text>\n<text text-anchor=\"middle\" x=\"423.5\" y=\"-421.8\" font-family=\"Times,serif\" font-size=\"14.00\" fill=\"#000000\">mse = 84.853</text>\n<text text-anchor=\"middle\" x=\"423.5\" y=\"-406.8\" font-family=\"Times,serif\" font-size=\"14.00\" fill=\"#000000\">samples = 455</text>\n<text text-anchor=\"middle\" x=\"423.5\" y=\"-391.8\" font-family=\"Times,serif\" font-size=\"14.00\" fill=\"#000000\">value = 22.359</text>\n</g>\n<!-- 1 -->\n<g id=\"node2\" class=\"node\">\n<title>1</title>\n<polygon fill=\"#f2be98\" stroke=\"#000000\" points=\"332.5,-348 228.5,-348 228.5,-280 332.5,-280 332.5,-348\"/>\n<text text-anchor=\"middle\" x=\"280.5\" y=\"-332.8\" font-family=\"Times,serif\" font-size=\"14.00\" fill=\"#000000\">RM &lt;= 6.941</text>\n<text text-anchor=\"middle\" x=\"280.5\" y=\"-317.8\" font-family=\"Times,serif\" font-size=\"14.00\" fill=\"#000000\">mse = 79.442</text>\n<text text-anchor=\"middle\" x=\"280.5\" y=\"-302.8\" font-family=\"Times,serif\" font-size=\"14.00\" fill=\"#000000\">samples = 179</text>\n<text text-anchor=\"middle\" x=\"280.5\" y=\"-287.8\" font-family=\"Times,serif\" font-size=\"14.00\" fill=\"#000000\">value = 30.093</text>\n</g>\n<!-- 0&#45;&gt;1 -->\n<g id=\"edge1\" class=\"edge\">\n<title>0&#45;&gt;1</title>\n<path fill=\"none\" stroke=\"#000000\" d=\"M376.6765,-383.9465C363.5902,-374.4293 349.247,-363.9978 335.7241,-354.163\"/>\n<polygon fill=\"#000000\" stroke=\"#000000\" points=\"337.5747,-351.1812 327.4287,-348.13 333.4575,-356.8423 337.5747,-351.1812\"/>\n<text text-anchor=\"middle\" x=\"331.3278\" y=\"-369.1241\" font-family=\"Times,serif\" font-size=\"14.00\" fill=\"#000000\">True</text>\n</g>\n<!-- 24 -->\n<g id=\"node15\" class=\"node\">\n<title>24</title>\n<polygon fill=\"#fae4d5\" stroke=\"#000000\" points=\"671.5,-348 561.5,-348 561.5,-280 671.5,-280 671.5,-348\"/>\n<text text-anchor=\"middle\" x=\"616.5\" y=\"-332.8\" font-family=\"Times,serif\" font-size=\"14.00\" fill=\"#000000\">LSTAT &lt;= 15.0</text>\n<text text-anchor=\"middle\" x=\"616.5\" y=\"-317.8\" font-family=\"Times,serif\" font-size=\"14.00\" fill=\"#000000\">mse = 24.409</text>\n<text text-anchor=\"middle\" x=\"616.5\" y=\"-302.8\" font-family=\"Times,serif\" font-size=\"14.00\" fill=\"#000000\">samples = 276</text>\n<text text-anchor=\"middle\" x=\"616.5\" y=\"-287.8\" font-family=\"Times,serif\" font-size=\"14.00\" fill=\"#000000\">value = 17.343</text>\n</g>\n<!-- 0&#45;&gt;24 -->\n<g id=\"edge14\" class=\"edge\">\n<title>0&#45;&gt;24</title>\n<path fill=\"none\" stroke=\"#000000\" d=\"M478.5478,-388.337C501.5671,-375.9327 528.4719,-361.4348 552.378,-348.5528\"/>\n<polygon fill=\"#000000\" stroke=\"#000000\" points=\"554.2362,-351.5274 561.3791,-343.7024 550.9155,-345.3651 554.2362,-351.5274\"/>\n<text text-anchor=\"middle\" x=\"554.2028\" y=\"-363.9503\" font-family=\"Times,serif\" font-size=\"14.00\" fill=\"#000000\">False</text>\n</g>\n<!-- 2 -->\n<g id=\"node3\" class=\"node\">\n<title>2</title>\n<polygon fill=\"#f4cbad\" stroke=\"#000000\" points=\"208.5,-244 104.5,-244 104.5,-176 208.5,-176 208.5,-244\"/>\n<text text-anchor=\"middle\" x=\"156.5\" y=\"-228.8\" font-family=\"Times,serif\" font-size=\"14.00\" fill=\"#000000\">DIS &lt;= 1.485</text>\n<text text-anchor=\"middle\" x=\"156.5\" y=\"-213.8\" font-family=\"Times,serif\" font-size=\"14.00\" fill=\"#000000\">mse = 34.342</text>\n<text text-anchor=\"middle\" x=\"156.5\" y=\"-198.8\" font-family=\"Times,serif\" font-size=\"14.00\" fill=\"#000000\">samples = 119</text>\n<text text-anchor=\"middle\" x=\"156.5\" y=\"-183.8\" font-family=\"Times,serif\" font-size=\"14.00\" fill=\"#000000\">value = 25.734</text>\n</g>\n<!-- 1&#45;&gt;2 -->\n<g id=\"edge2\" class=\"edge\">\n<title>1&#45;&gt;2</title>\n<path fill=\"none\" stroke=\"#000000\" d=\"M239.8978,-279.9465C228.7644,-270.6088 216.5817,-260.3911 205.0511,-250.7203\"/>\n<polygon fill=\"#000000\" stroke=\"#000000\" points=\"207.1046,-247.8745 197.1935,-244.13 202.6062,-253.2378 207.1046,-247.8745\"/>\n</g>\n<!-- 11 -->\n<g id=\"node8\" class=\"node\">\n<title>11</title>\n<polygon fill=\"#eca36f\" stroke=\"#000000\" points=\"332.5,-244 228.5,-244 228.5,-176 332.5,-176 332.5,-244\"/>\n<text text-anchor=\"middle\" x=\"280.5\" y=\"-228.8\" font-family=\"Times,serif\" font-size=\"14.00\" fill=\"#000000\">RM &lt;= 7.437</text>\n<text text-anchor=\"middle\" x=\"280.5\" y=\"-213.8\" font-family=\"Times,serif\" font-size=\"14.00\" fill=\"#000000\">mse = 56.457</text>\n<text text-anchor=\"middle\" x=\"280.5\" y=\"-198.8\" font-family=\"Times,serif\" font-size=\"14.00\" fill=\"#000000\">samples = 60</text>\n<text text-anchor=\"middle\" x=\"280.5\" y=\"-183.8\" font-family=\"Times,serif\" font-size=\"14.00\" fill=\"#000000\">value = 38.738</text>\n</g>\n<!-- 1&#45;&gt;11 -->\n<g id=\"edge7\" class=\"edge\">\n<title>1&#45;&gt;11</title>\n<path fill=\"none\" stroke=\"#000000\" d=\"M280.5,-279.9465C280.5,-271.776 280.5,-262.9318 280.5,-254.3697\"/>\n<polygon fill=\"#000000\" stroke=\"#000000\" points=\"284.0001,-254.13 280.5,-244.13 277.0001,-254.13 284.0001,-254.13\"/>\n</g>\n<!-- 3 -->\n<g id=\"node4\" class=\"node\">\n<title>3</title>\n<polygon fill=\"#e58139\" stroke=\"#000000\" points=\"89,-132.5 0,-132.5 0,-79.5 89,-79.5 89,-132.5\"/>\n<text text-anchor=\"middle\" x=\"44.5\" y=\"-117.3\" font-family=\"Times,serif\" font-size=\"14.00\" fill=\"#000000\">mse = 0.0</text>\n<text text-anchor=\"middle\" x=\"44.5\" y=\"-102.3\" font-family=\"Times,serif\" font-size=\"14.00\" fill=\"#000000\">samples = 4</text>\n<text text-anchor=\"middle\" x=\"44.5\" y=\"-87.3\" font-family=\"Times,serif\" font-size=\"14.00\" fill=\"#000000\">value = 50.0</text>\n</g>\n<!-- 2&#45;&gt;3 -->\n<g id=\"edge3\" class=\"edge\">\n<title>2&#45;&gt;3</title>\n<path fill=\"none\" stroke=\"#000000\" d=\"M119.827,-175.9465C107.2531,-164.2707 93.1974,-151.219 80.6641,-139.5809\"/>\n<polygon fill=\"#000000\" stroke=\"#000000\" points=\"82.7934,-136.7819 73.0839,-132.5422 78.0302,-141.9115 82.7934,-136.7819\"/>\n</g>\n<!-- 4 -->\n<g id=\"node5\" class=\"node\">\n<title>4</title>\n<polygon fill=\"#f5cdb1\" stroke=\"#000000\" points=\"206,-140 107,-140 107,-72 206,-72 206,-140\"/>\n<text text-anchor=\"middle\" x=\"156.5\" y=\"-124.8\" font-family=\"Times,serif\" font-size=\"14.00\" fill=\"#000000\">RM &lt;= 6.469</text>\n<text text-anchor=\"middle\" x=\"156.5\" y=\"-109.8\" font-family=\"Times,serif\" font-size=\"14.00\" fill=\"#000000\">mse = 14.342</text>\n<text text-anchor=\"middle\" x=\"156.5\" y=\"-94.8\" font-family=\"Times,serif\" font-size=\"14.00\" fill=\"#000000\">samples = 115</text>\n<text text-anchor=\"middle\" x=\"156.5\" y=\"-79.8\" font-family=\"Times,serif\" font-size=\"14.00\" fill=\"#000000\">value = 24.89</text>\n</g>\n<!-- 2&#45;&gt;4 -->\n<g id=\"edge4\" class=\"edge\">\n<title>2&#45;&gt;4</title>\n<path fill=\"none\" stroke=\"#000000\" d=\"M156.5,-175.9465C156.5,-167.776 156.5,-158.9318 156.5,-150.3697\"/>\n<polygon fill=\"#000000\" stroke=\"#000000\" points=\"160.0001,-150.13 156.5,-140.13 153.0001,-150.13 160.0001,-150.13\"/>\n</g>\n<!-- 5 -->\n<g id=\"node6\" class=\"node\">\n<title>5</title>\n<polygon fill=\"#c0c0c0\" stroke=\"#000000\" points=\"111.5,-36 57.5,-36 57.5,0 111.5,0 111.5,-36\"/>\n<text text-anchor=\"middle\" x=\"84.5\" y=\"-14.3\" font-family=\"Times,serif\" font-size=\"14.00\" fill=\"#000000\">(...)</text>\n</g>\n<!-- 4&#45;&gt;5 -->\n<g id=\"edge5\" class=\"edge\">\n<title>4&#45;&gt;5</title>\n<path fill=\"none\" stroke=\"#000000\" d=\"M128.6629,-71.9769C121.1059,-62.7406 113.0424,-52.8851 105.9014,-44.1573\"/>\n<polygon fill=\"#000000\" stroke=\"#000000\" points=\"108.4256,-41.7152 99.3843,-36.192 103.0079,-46.1479 108.4256,-41.7152\"/>\n</g>\n<!-- 8 -->\n<g id=\"node7\" class=\"node\">\n<title>8</title>\n<polygon fill=\"#c0c0c0\" stroke=\"#000000\" points=\"183.5,-36 129.5,-36 129.5,0 183.5,0 183.5,-36\"/>\n<text text-anchor=\"middle\" x=\"156.5\" y=\"-14.3\" font-family=\"Times,serif\" font-size=\"14.00\" fill=\"#000000\">(...)</text>\n</g>\n<!-- 4&#45;&gt;8 -->\n<g id=\"edge6\" class=\"edge\">\n<title>4&#45;&gt;8</title>\n<path fill=\"none\" stroke=\"#000000\" d=\"M156.5,-71.9769C156.5,-63.5023 156.5,-54.5065 156.5,-46.3388\"/>\n<polygon fill=\"#000000\" stroke=\"#000000\" points=\"160.0001,-46.1919 156.5,-36.192 153.0001,-46.192 160.0001,-46.1919\"/>\n</g>\n<!-- 12 -->\n<g id=\"node9\" class=\"node\">\n<title>12</title>\n<polygon fill=\"#efb286\" stroke=\"#000000\" points=\"331.5,-140 227.5,-140 227.5,-72 331.5,-72 331.5,-140\"/>\n<text text-anchor=\"middle\" x=\"279.5\" y=\"-124.8\" font-family=\"Times,serif\" font-size=\"14.00\" fill=\"#000000\">DIS &lt;= 1.886</text>\n<text text-anchor=\"middle\" x=\"279.5\" y=\"-109.8\" font-family=\"Times,serif\" font-size=\"14.00\" fill=\"#000000\">mse = 20.112</text>\n<text text-anchor=\"middle\" x=\"279.5\" y=\"-94.8\" font-family=\"Times,serif\" font-size=\"14.00\" fill=\"#000000\">samples = 33</text>\n<text text-anchor=\"middle\" x=\"279.5\" y=\"-79.8\" font-family=\"Times,serif\" font-size=\"14.00\" fill=\"#000000\">value = 33.936</text>\n</g>\n<!-- 11&#45;&gt;12 -->\n<g id=\"edge8\" class=\"edge\">\n<title>11&#45;&gt;12</title>\n<path fill=\"none\" stroke=\"#000000\" d=\"M280.1726,-175.9465C280.094,-167.776 280.009,-158.9318 279.9266,-150.3697\"/>\n<polygon fill=\"#000000\" stroke=\"#000000\" points=\"283.4243,-150.0958 279.8282,-140.13 276.4246,-150.1632 283.4243,-150.0958\"/>\n</g>\n<!-- 19 -->\n<g id=\"node12\" class=\"node\">\n<title>19</title>\n<polygon fill=\"#e89153\" stroke=\"#000000\" points=\"483.5,-140 349.5,-140 349.5,-72 483.5,-72 483.5,-140\"/>\n<text text-anchor=\"middle\" x=\"416.5\" y=\"-124.8\" font-family=\"Times,serif\" font-size=\"14.00\" fill=\"#000000\">PTRATIO &lt;= 19.65</text>\n<text text-anchor=\"middle\" x=\"416.5\" y=\"-109.8\" font-family=\"Times,serif\" font-size=\"14.00\" fill=\"#000000\">mse = 38.249</text>\n<text text-anchor=\"middle\" x=\"416.5\" y=\"-94.8\" font-family=\"Times,serif\" font-size=\"14.00\" fill=\"#000000\">samples = 27</text>\n<text text-anchor=\"middle\" x=\"416.5\" y=\"-79.8\" font-family=\"Times,serif\" font-size=\"14.00\" fill=\"#000000\">value = 44.607</text>\n</g>\n<!-- 11&#45;&gt;19 -->\n<g id=\"edge11\" class=\"edge\">\n<title>11&#45;&gt;19</title>\n<path fill=\"none\" stroke=\"#000000\" d=\"M325.0315,-175.9465C337.3597,-166.519 350.8609,-156.1946 363.615,-146.4415\"/>\n<polygon fill=\"#000000\" stroke=\"#000000\" points=\"366.051,-148.9848 371.8685,-140.13 361.7988,-143.4243 366.051,-148.9848\"/>\n</g>\n<!-- 13 -->\n<g id=\"node10\" class=\"node\">\n<title>13</title>\n<polygon fill=\"#c0c0c0\" stroke=\"#000000\" points=\"255.5,-36 201.5,-36 201.5,0 255.5,0 255.5,-36\"/>\n<text text-anchor=\"middle\" x=\"228.5\" y=\"-14.3\" font-family=\"Times,serif\" font-size=\"14.00\" fill=\"#000000\">(...)</text>\n</g>\n<!-- 12&#45;&gt;13 -->\n<g id=\"edge9\" class=\"edge\">\n<title>12&#45;&gt;13</title>\n<path fill=\"none\" stroke=\"#000000\" d=\"M259.7821,-71.9769C254.5948,-63.0262 249.0705,-53.4941 244.1305,-44.9703\"/>\n<polygon fill=\"#000000\" stroke=\"#000000\" points=\"247.0856,-43.089 239.0431,-36.192 241.0291,-46.599 247.0856,-43.089\"/>\n</g>\n<!-- 16 -->\n<g id=\"node11\" class=\"node\">\n<title>16</title>\n<polygon fill=\"#c0c0c0\" stroke=\"#000000\" points=\"327.5,-36 273.5,-36 273.5,0 327.5,0 327.5,-36\"/>\n<text text-anchor=\"middle\" x=\"300.5\" y=\"-14.3\" font-family=\"Times,serif\" font-size=\"14.00\" fill=\"#000000\">(...)</text>\n</g>\n<!-- 12&#45;&gt;16 -->\n<g id=\"edge10\" class=\"edge\">\n<title>12&#45;&gt;16</title>\n<path fill=\"none\" stroke=\"#000000\" d=\"M287.6191,-71.9769C289.6642,-63.4071 291.8365,-54.3043 293.803,-46.0638\"/>\n<polygon fill=\"#000000\" stroke=\"#000000\" points=\"297.2419,-46.7313 296.1587,-36.192 290.4331,-45.1064 297.2419,-46.7313\"/>\n</g>\n<!-- 20 -->\n<g id=\"node13\" class=\"node\">\n<title>20</title>\n<polygon fill=\"#c0c0c0\" stroke=\"#000000\" points=\"399.5,-36 345.5,-36 345.5,0 399.5,0 399.5,-36\"/>\n<text text-anchor=\"middle\" x=\"372.5\" y=\"-14.3\" font-family=\"Times,serif\" font-size=\"14.00\" fill=\"#000000\">(...)</text>\n</g>\n<!-- 19&#45;&gt;20 -->\n<g id=\"edge12\" class=\"edge\">\n<title>19&#45;&gt;20</title>\n<path fill=\"none\" stroke=\"#000000\" d=\"M399.4885,-71.9769C395.0607,-63.1215 390.3484,-53.6969 386.1213,-45.2427\"/>\n<polygon fill=\"#000000\" stroke=\"#000000\" points=\"389.1987,-43.571 381.596,-36.192 382.9377,-46.7015 389.1987,-43.571\"/>\n</g>\n<!-- 23 -->\n<g id=\"node14\" class=\"node\">\n<title>23</title>\n<polygon fill=\"#c0c0c0\" stroke=\"#000000\" points=\"471.5,-36 417.5,-36 417.5,0 471.5,0 471.5,-36\"/>\n<text text-anchor=\"middle\" x=\"444.5\" y=\"-14.3\" font-family=\"Times,serif\" font-size=\"14.00\" fill=\"#000000\">(...)</text>\n</g>\n<!-- 19&#45;&gt;23 -->\n<g id=\"edge13\" class=\"edge\">\n<title>19&#45;&gt;23</title>\n<path fill=\"none\" stroke=\"#000000\" d=\"M427.3255,-71.9769C430.0826,-63.3119 433.013,-54.102 435.6579,-45.7894\"/>\n<polygon fill=\"#000000\" stroke=\"#000000\" points=\"439.0148,-46.7825 438.7117,-36.192 432.3443,-44.66 439.0148,-46.7825\"/>\n</g>\n<!-- 25 -->\n<g id=\"node16\" class=\"node\">\n<title>25</title>\n<polygon fill=\"#f7dac5\" stroke=\"#000000\" points=\"668.5,-244 564.5,-244 564.5,-176 668.5,-176 668.5,-244\"/>\n<text text-anchor=\"middle\" x=\"616.5\" y=\"-228.8\" font-family=\"Times,serif\" font-size=\"14.00\" fill=\"#000000\">RM &lt;= 6.618</text>\n<text text-anchor=\"middle\" x=\"616.5\" y=\"-213.8\" font-family=\"Times,serif\" font-size=\"14.00\" fill=\"#000000\">mse = 10.129</text>\n<text text-anchor=\"middle\" x=\"616.5\" y=\"-198.8\" font-family=\"Times,serif\" font-size=\"14.00\" fill=\"#000000\">samples = 127</text>\n<text text-anchor=\"middle\" x=\"616.5\" y=\"-183.8\" font-family=\"Times,serif\" font-size=\"14.00\" fill=\"#000000\">value = 20.701</text>\n</g>\n<!-- 24&#45;&gt;25 -->\n<g id=\"edge15\" class=\"edge\">\n<title>24&#45;&gt;25</title>\n<path fill=\"none\" stroke=\"#000000\" d=\"M616.5,-279.9465C616.5,-271.776 616.5,-262.9318 616.5,-254.3697\"/>\n<polygon fill=\"#000000\" stroke=\"#000000\" points=\"620.0001,-254.13 616.5,-244.13 613.0001,-254.13 620.0001,-254.13\"/>\n</g>\n<!-- 38 -->\n<g id=\"node23\" class=\"node\">\n<title>38</title>\n<polygon fill=\"#fbede3\" stroke=\"#000000\" points=\"865.5,-244 759.5,-244 759.5,-176 865.5,-176 865.5,-244\"/>\n<text text-anchor=\"middle\" x=\"812.5\" y=\"-228.8\" font-family=\"Times,serif\" font-size=\"14.00\" fill=\"#000000\">NOX &lt;= 0.603</text>\n<text text-anchor=\"middle\" x=\"812.5\" y=\"-213.8\" font-family=\"Times,serif\" font-size=\"14.00\" fill=\"#000000\">mse = 18.777</text>\n<text text-anchor=\"middle\" x=\"812.5\" y=\"-198.8\" font-family=\"Times,serif\" font-size=\"14.00\" fill=\"#000000\">samples = 149</text>\n<text text-anchor=\"middle\" x=\"812.5\" y=\"-183.8\" font-family=\"Times,serif\" font-size=\"14.00\" fill=\"#000000\">value = 14.481</text>\n</g>\n<!-- 24&#45;&gt;38 -->\n<g id=\"edge22\" class=\"edge\">\n<title>24&#45;&gt;38</title>\n<path fill=\"none\" stroke=\"#000000\" d=\"M671.6185,-284.7534C696.1232,-271.751 725.0836,-256.3842 750.3545,-242.9752\"/>\n<polygon fill=\"#000000\" stroke=\"#000000\" points=\"752.2898,-245.9105 759.4828,-238.1316 749.0088,-239.7271 752.2898,-245.9105\"/>\n</g>\n<!-- 26 -->\n<g id=\"node17\" class=\"node\">\n<title>26</title>\n<polygon fill=\"#f8dbc7\" stroke=\"#000000\" points=\"607.5,-140 503.5,-140 503.5,-72 607.5,-72 607.5,-140\"/>\n<text text-anchor=\"middle\" x=\"555.5\" y=\"-124.8\" font-family=\"Times,serif\" font-size=\"14.00\" fill=\"#000000\">B &lt;= 114.685</text>\n<text text-anchor=\"middle\" x=\"555.5\" y=\"-109.8\" font-family=\"Times,serif\" font-size=\"14.00\" fill=\"#000000\">mse = 7.064</text>\n<text text-anchor=\"middle\" x=\"555.5\" y=\"-94.8\" font-family=\"Times,serif\" font-size=\"14.00\" fill=\"#000000\">samples = 118</text>\n<text text-anchor=\"middle\" x=\"555.5\" y=\"-79.8\" font-family=\"Times,serif\" font-size=\"14.00\" fill=\"#000000\">value = 20.343</text>\n</g>\n<!-- 25&#45;&gt;26 -->\n<g id=\"edge16\" class=\"edge\">\n<title>25&#45;&gt;26</title>\n<path fill=\"none\" stroke=\"#000000\" d=\"M596.5263,-175.9465C591.4707,-167.3271 585.9753,-157.9579 580.6983,-148.9611\"/>\n<polygon fill=\"#000000\" stroke=\"#000000\" points=\"583.5969,-146.985 575.5186,-140.13 577.5589,-150.5265 583.5969,-146.985\"/>\n</g>\n<!-- 33 -->\n<g id=\"node20\" class=\"node\">\n<title>33</title>\n<polygon fill=\"#f4ccaf\" stroke=\"#000000\" points=\"731.5,-140 625.5,-140 625.5,-72 731.5,-72 731.5,-140\"/>\n<text text-anchor=\"middle\" x=\"678.5\" y=\"-124.8\" font-family=\"Times,serif\" font-size=\"14.00\" fill=\"#000000\">NOX &lt;= 0.659</text>\n<text text-anchor=\"middle\" x=\"678.5\" y=\"-109.8\" font-family=\"Times,serif\" font-size=\"14.00\" fill=\"#000000\">mse = 26.661</text>\n<text text-anchor=\"middle\" x=\"678.5\" y=\"-94.8\" font-family=\"Times,serif\" font-size=\"14.00\" fill=\"#000000\">samples = 9</text>\n<text text-anchor=\"middle\" x=\"678.5\" y=\"-79.8\" font-family=\"Times,serif\" font-size=\"14.00\" fill=\"#000000\">value = 25.389</text>\n</g>\n<!-- 25&#45;&gt;33 -->\n<g id=\"edge19\" class=\"edge\">\n<title>25&#45;&gt;33</title>\n<path fill=\"none\" stroke=\"#000000\" d=\"M636.8011,-175.9465C641.9396,-167.3271 647.5251,-157.9579 652.8886,-148.9611\"/>\n<polygon fill=\"#000000\" stroke=\"#000000\" points=\"656.0389,-150.5117 658.1533,-140.13 650.0263,-146.9272 656.0389,-150.5117\"/>\n</g>\n<!-- 27 -->\n<g id=\"node18\" class=\"node\">\n<title>27</title>\n<polygon fill=\"#c0c0c0\" stroke=\"#000000\" points=\"543.5,-36 489.5,-36 489.5,0 543.5,0 543.5,-36\"/>\n<text text-anchor=\"middle\" x=\"516.5\" y=\"-14.3\" font-family=\"Times,serif\" font-size=\"14.00\" fill=\"#000000\">(...)</text>\n</g>\n<!-- 26&#45;&gt;27 -->\n<g id=\"edge17\" class=\"edge\">\n<title>26&#45;&gt;27</title>\n<path fill=\"none\" stroke=\"#000000\" d=\"M540.4216,-71.9769C536.5392,-63.2167 532.41,-53.8995 528.6945,-45.5157\"/>\n<polygon fill=\"#000000\" stroke=\"#000000\" points=\"531.814,-43.9162 524.5623,-36.192 525.4143,-46.7525 531.814,-43.9162\"/>\n</g>\n<!-- 30 -->\n<g id=\"node19\" class=\"node\">\n<title>30</title>\n<polygon fill=\"#c0c0c0\" stroke=\"#000000\" points=\"615.5,-36 561.5,-36 561.5,0 615.5,0 615.5,-36\"/>\n<text text-anchor=\"middle\" x=\"588.5\" y=\"-14.3\" font-family=\"Times,serif\" font-size=\"14.00\" fill=\"#000000\">(...)</text>\n</g>\n<!-- 26&#45;&gt;30 -->\n<g id=\"edge18\" class=\"edge\">\n<title>26&#45;&gt;30</title>\n<path fill=\"none\" stroke=\"#000000\" d=\"M568.2587,-71.9769C571.508,-63.3119 574.9618,-54.102 578.079,-45.7894\"/>\n<polygon fill=\"#000000\" stroke=\"#000000\" points=\"581.4439,-46.7842 581.678,-36.192 574.8896,-44.3263 581.4439,-46.7842\"/>\n</g>\n<!-- 34 -->\n<g id=\"node21\" class=\"node\">\n<title>34</title>\n<polygon fill=\"#c0c0c0\" stroke=\"#000000\" points=\"687.5,-36 633.5,-36 633.5,0 687.5,0 687.5,-36\"/>\n<text text-anchor=\"middle\" x=\"660.5\" y=\"-14.3\" font-family=\"Times,serif\" font-size=\"14.00\" fill=\"#000000\">(...)</text>\n</g>\n<!-- 33&#45;&gt;34 -->\n<g id=\"edge20\" class=\"edge\">\n<title>33&#45;&gt;34</title>\n<path fill=\"none\" stroke=\"#000000\" d=\"M671.5407,-71.9769C669.7878,-63.4071 667.9259,-54.3043 666.2403,-46.0638\"/>\n<polygon fill=\"#000000\" stroke=\"#000000\" points=\"669.6541,-45.2877 664.2211,-36.192 662.7961,-46.6905 669.6541,-45.2877\"/>\n</g>\n<!-- 37 -->\n<g id=\"node22\" class=\"node\">\n<title>37</title>\n<polygon fill=\"#c0c0c0\" stroke=\"#000000\" points=\"759.5,-36 705.5,-36 705.5,0 759.5,0 759.5,-36\"/>\n<text text-anchor=\"middle\" x=\"732.5\" y=\"-14.3\" font-family=\"Times,serif\" font-size=\"14.00\" fill=\"#000000\">(...)</text>\n</g>\n<!-- 33&#45;&gt;37 -->\n<g id=\"edge21\" class=\"edge\">\n<title>33&#45;&gt;37</title>\n<path fill=\"none\" stroke=\"#000000\" d=\"M699.3778,-71.9769C704.8703,-63.0262 710.7195,-53.4941 715.9501,-44.9703\"/>\n<polygon fill=\"#000000\" stroke=\"#000000\" points=\"719.0897,-46.5458 721.3368,-36.192 713.1234,-42.8846 719.0897,-46.5458\"/>\n</g>\n<!-- 39 -->\n<g id=\"node24\" class=\"node\">\n<title>39</title>\n<polygon fill=\"#f9e3d3\" stroke=\"#000000\" points=\"868,-140 757,-140 757,-72 868,-72 868,-140\"/>\n<text text-anchor=\"middle\" x=\"812.5\" y=\"-124.8\" font-family=\"Times,serif\" font-size=\"14.00\" fill=\"#000000\">CRIM &lt;= 0.593</text>\n<text text-anchor=\"middle\" x=\"812.5\" y=\"-109.8\" font-family=\"Times,serif\" font-size=\"14.00\" fill=\"#000000\">mse = 13.327</text>\n<text text-anchor=\"middle\" x=\"812.5\" y=\"-94.8\" font-family=\"Times,serif\" font-size=\"14.00\" fill=\"#000000\">samples = 53</text>\n<text text-anchor=\"middle\" x=\"812.5\" y=\"-79.8\" font-family=\"Times,serif\" font-size=\"14.00\" fill=\"#000000\">value = 17.883</text>\n</g>\n<!-- 38&#45;&gt;39 -->\n<g id=\"edge23\" class=\"edge\">\n<title>38&#45;&gt;39</title>\n<path fill=\"none\" stroke=\"#000000\" d=\"M812.5,-175.9465C812.5,-167.776 812.5,-158.9318 812.5,-150.3697\"/>\n<polygon fill=\"#000000\" stroke=\"#000000\" points=\"816.0001,-150.13 812.5,-140.13 809.0001,-150.13 816.0001,-150.13\"/>\n</g>\n<!-- 46 -->\n<g id=\"node27\" class=\"node\">\n<title>46</title>\n<polygon fill=\"#fdf3ec\" stroke=\"#000000\" points=\"1007.5,-140 889.5,-140 889.5,-72 1007.5,-72 1007.5,-140\"/>\n<text text-anchor=\"middle\" x=\"948.5\" y=\"-124.8\" font-family=\"Times,serif\" font-size=\"14.00\" fill=\"#000000\">CRIM &lt;= 11.369</text>\n<text text-anchor=\"middle\" x=\"948.5\" y=\"-109.8\" font-family=\"Times,serif\" font-size=\"14.00\" fill=\"#000000\">mse = 11.865</text>\n<text text-anchor=\"middle\" x=\"948.5\" y=\"-94.8\" font-family=\"Times,serif\" font-size=\"14.00\" fill=\"#000000\">samples = 96</text>\n<text text-anchor=\"middle\" x=\"948.5\" y=\"-79.8\" font-family=\"Times,serif\" font-size=\"14.00\" fill=\"#000000\">value = 12.602</text>\n</g>\n<!-- 38&#45;&gt;46 -->\n<g id=\"edge26\" class=\"edge\">\n<title>38&#45;&gt;46</title>\n<path fill=\"none\" stroke=\"#000000\" d=\"M857.0315,-175.9465C869.3597,-166.519 882.8609,-156.1946 895.615,-146.4415\"/>\n<polygon fill=\"#000000\" stroke=\"#000000\" points=\"898.051,-148.9848 903.8685,-140.13 893.7988,-143.4243 898.051,-148.9848\"/>\n</g>\n<!-- 40 -->\n<g id=\"node25\" class=\"node\">\n<title>40</title>\n<polygon fill=\"#c0c0c0\" stroke=\"#000000\" points=\"831.5,-36 777.5,-36 777.5,0 831.5,0 831.5,-36\"/>\n<text text-anchor=\"middle\" x=\"804.5\" y=\"-14.3\" font-family=\"Times,serif\" font-size=\"14.00\" fill=\"#000000\">(...)</text>\n</g>\n<!-- 39&#45;&gt;40 -->\n<g id=\"edge24\" class=\"edge\">\n<title>39&#45;&gt;40</title>\n<path fill=\"none\" stroke=\"#000000\" d=\"M809.407,-71.9769C808.6366,-63.5023 807.8188,-54.5065 807.0763,-46.3388\"/>\n<polygon fill=\"#000000\" stroke=\"#000000\" points=\"810.5449,-45.834 806.1538,-36.192 803.5736,-46.4678 810.5449,-45.834\"/>\n</g>\n<!-- 43 -->\n<g id=\"node26\" class=\"node\">\n<title>43</title>\n<polygon fill=\"#c0c0c0\" stroke=\"#000000\" points=\"903.5,-36 849.5,-36 849.5,0 903.5,0 903.5,-36\"/>\n<text text-anchor=\"middle\" x=\"876.5\" y=\"-14.3\" font-family=\"Times,serif\" font-size=\"14.00\" fill=\"#000000\">(...)</text>\n</g>\n<!-- 39&#45;&gt;43 -->\n<g id=\"edge25\" class=\"edge\">\n<title>39&#45;&gt;43</title>\n<path fill=\"none\" stroke=\"#000000\" d=\"M837.2441,-71.9769C843.8921,-62.8358 850.9813,-53.0883 857.2799,-44.4276\"/>\n<polygon fill=\"#000000\" stroke=\"#000000\" points=\"860.2183,-46.3379 863.2695,-36.192 854.5571,-42.2207 860.2183,-46.3379\"/>\n</g>\n<!-- 47 -->\n<g id=\"node28\" class=\"node\">\n<title>47</title>\n<polygon fill=\"#c0c0c0\" stroke=\"#000000\" points=\"975.5,-36 921.5,-36 921.5,0 975.5,0 975.5,-36\"/>\n<text text-anchor=\"middle\" x=\"948.5\" y=\"-14.3\" font-family=\"Times,serif\" font-size=\"14.00\" fill=\"#000000\">(...)</text>\n</g>\n<!-- 46&#45;&gt;47 -->\n<g id=\"edge27\" class=\"edge\">\n<title>46&#45;&gt;47</title>\n<path fill=\"none\" stroke=\"#000000\" d=\"M948.5,-71.9769C948.5,-63.5023 948.5,-54.5065 948.5,-46.3388\"/>\n<polygon fill=\"#000000\" stroke=\"#000000\" points=\"952.0001,-46.1919 948.5,-36.192 945.0001,-46.192 952.0001,-46.1919\"/>\n</g>\n<!-- 50 -->\n<g id=\"node29\" class=\"node\">\n<title>50</title>\n<polygon fill=\"#c0c0c0\" stroke=\"#000000\" points=\"1047.5,-36 993.5,-36 993.5,0 1047.5,0 1047.5,-36\"/>\n<text text-anchor=\"middle\" x=\"1020.5\" y=\"-14.3\" font-family=\"Times,serif\" font-size=\"14.00\" fill=\"#000000\">(...)</text>\n</g>\n<!-- 46&#45;&gt;50 -->\n<g id=\"edge28\" class=\"edge\">\n<title>46&#45;&gt;50</title>\n<path fill=\"none\" stroke=\"#000000\" d=\"M976.3371,-71.9769C983.8941,-62.7406 991.9576,-52.8851 999.0986,-44.1573\"/>\n<polygon fill=\"#000000\" stroke=\"#000000\" points=\"1001.9921,-46.1479 1005.6157,-36.192 996.5744,-41.7152 1001.9921,-46.1479\"/>\n</g>\n</g>\n</svg>\n"
          },
          "metadata": {
            "tags": []
          },
          "execution_count": 13
        }
      ]
    },
    {
      "cell_type": "code",
      "metadata": {
        "id": "sk3e1NqLghDI",
        "colab_type": "code",
        "colab": {
          "base_uri": "https://localhost:8080/",
          "height": 34
        },
        "outputId": "1a3b2f20-428a-43bd-f003-ff42fc2c5546"
      },
      "source": [
        "from sklearn.metrics import r2_score\n",
        "pre = reg.predict(x_test)\n",
        "r2_score(y_test, pre)"
      ],
      "execution_count": null,
      "outputs": [
        {
          "output_type": "execute_result",
          "data": {
            "text/plain": [
              "0.8603611633214996"
            ]
          },
          "metadata": {
            "tags": []
          },
          "execution_count": 14
        }
      ]
    }
  ]
}
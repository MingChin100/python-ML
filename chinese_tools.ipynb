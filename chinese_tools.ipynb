{
  "nbformat": 4,
  "nbformat_minor": 0,
  "metadata": {
    "colab": {
      "name": "chinese_tools.ipynb",
      "provenance": [],
      "authorship_tag": "ABX9TyPaPTtNPhdyGeirXc5/aCoE",
      "include_colab_link": true
    },
    "kernelspec": {
      "name": "python3",
      "display_name": "Python 3"
    }
  },
  "cells": [
    {
      "cell_type": "markdown",
      "metadata": {
        "id": "view-in-github",
        "colab_type": "text"
      },
      "source": [
        "<a href=\"https://colab.research.google.com/github/MingChin100/python-ML/blob/master/chinese_tools.ipynb\" target=\"_parent\"><img src=\"https://colab.research.google.com/assets/colab-badge.svg\" alt=\"Open In Colab\"/></a>"
      ]
    },
    {
      "cell_type": "code",
      "metadata": {
        "id": "Y-OJn2zOYl1d",
        "colab_type": "code",
        "colab": {
          "base_uri": "https://localhost:8080/",
          "height": 35
        },
        "outputId": "8d38cc28-e99e-4301-e72e-11172c4c62ca"
      },
      "source": [
        "!pip install opencc-python-reimplemented"
      ],
      "execution_count": null,
      "outputs": [
        {
          "output_type": "stream",
          "text": [
            "Requirement already satisfied: opencc-python-reimplemented in /usr/local/lib/python3.6/dist-packages (0.1.6)\n"
          ],
          "name": "stdout"
        }
      ]
    },
    {
      "cell_type": "code",
      "metadata": {
        "id": "j-Hnmv_gZls7",
        "colab_type": "code",
        "colab": {
          "base_uri": "https://localhost:8080/",
          "height": 124
        },
        "outputId": "53701ce5-a5c0-4f54-898b-789501e9bde6"
      },
      "source": [
        "from opencc import OpenCC\n",
        "#  簡轉繁\n",
        "cc = OpenCC('s2twp')  # convert from Simplified Chinese to Traditional Chinese\n",
        "# can also set conversion by calling set_conversion\n",
        "# cc.set_conversion('s2tw')\n",
        "to_convert = \"\"\"  疼！难以忍受的疼！宋卿疏逐渐从昏迷中醒来，感到全身骨头似乎都碎了了，连动一个手指也办不到，想到昏迷前那辆迎面而来的大卡车，宋卿疏心中一凉：“难道捡回一条命，下半辈子却只能瘫痪在床了？”\n",
        "\n",
        "    这是在医院么，宋卿疏睁开眼睛，开始慢慢打量起周围环境。只见周围青纱无风自动，屋子正中桌上一支白烛忽明忽暗，一个身段曼妙的女子背对着自己坐在那里，以手支颐，怔怔地在那里发呆。\n",
        "\n",
        "    看不清女子的容貌，不过昏暗的烛光照在她一席素淡的青衣上，惨慎得有些吓人，宋卿疏心想这医院搞什么鬼，没电不说，还把病房布置得像灵堂一样，这个护士坐在那里像个女鬼一般，要是胆小的人早就被吓得叫出来了。\n",
        "\n",
        "    青衣女子似乎在想着心事，并没有注意到床上的男人已经醒了过来，这个时候，一个女尼敲门走了进来禀告：“掌门，明教教主张无忌求见。”\n",
        "\n",
        "    青衣女子身子明显颤了一下，不过很快镇定下来：“男女有别，夜间不便相见，让他回去吧。”语气的冷漠也难掩青衣女子清脆声音中透出的那一丝空灵，十分的好听。\n",
        "\n",
        "    这时候外面一个沉稳清朗的男声穿透了进来：“在下颇通医术，愿为宋青书少侠疗伤，别无他意。”\n",
        "\"\"\"\n",
        "converted = cc.convert(to_convert)\n",
        "converted"
      ],
      "execution_count": null,
      "outputs": [
        {
          "output_type": "execute_result",
          "data": {
            "application/vnd.google.colaboratory.intrinsic": {
              "type": "string"
            },
            "text/plain": [
              "'  疼！難以忍受的疼！宋卿疏逐漸從昏迷中醒來，感到全身骨頭似乎都碎了了，連動一個手指也辦不到，想到昏迷前那輛迎面而來的大卡車，宋卿疏心中一涼：“難道撿回一條命，下半輩子卻只能癱瘓在床了？”\\n\\n    這是在醫院麼，宋卿疏睜開眼睛，開始慢慢打量起周圍環境。只見周圍青紗無風自動，屋子正中桌上一支白燭忽明忽暗，一個身段曼妙的女子背對著自己坐在那裡，以手支頤，怔怔地在那裡發呆。\\n\\n    看不清女子的容貌，不過昏暗的燭光照在她一席素淡的青衣上，慘慎得有些嚇人，宋卿疏心想這醫院搞什麼鬼，沒電不說，還把病房佈置得像靈堂一樣，這個護士坐在那裡像個女鬼一般，要是膽小的人早就被嚇得叫出來了。\\n\\n    青衣女子似乎在想著心事，並沒有注意到床上的男人已經醒了過來，這個時候，一個女尼敲門走了進來稟告：“掌門，明教教主張無忌求見。”\\n\\n    青衣女子身子明顯顫了一下，不過很快鎮定下來：“男女有別，夜間不便相見，讓他回去吧。”語氣的冷漠也難掩青衣女子清脆聲音中透出的那一絲空靈，十分的好聽。\\n\\n    這時候外面一個沉穩清朗的男聲穿透了進來：“在下頗通醫術，願為宋青書少俠療傷，別無他意。”\\n'"
            ]
          },
          "metadata": {
            "tags": []
          },
          "execution_count": 5
        }
      ]
    },
    {
      "cell_type": "code",
      "metadata": {
        "id": "TqDQ5PVbcWk4",
        "colab_type": "code",
        "colab": {}
      },
      "source": [
        "news = \"\"\"【財訊快報／編輯部】日本政府基於國安考量，計畫邀請海外半導體業者與日本國內業者合作，共同打造「半導體國家隊」。日本讀賣新聞19日報導，日本計畫邀請全球晶圓代工龍頭台積電赴日投資建廠，以提振日本國內落後的晶片產業。但台積電對此報導暫不評論。\n",
        "\n",
        "台積電今年5月才宣布斥資120億美元赴美投資建廠，本次再傳出日本政府也對台積電青睞有加，引起市場高度關注。\n",
        "\"\"\""
      ],
      "execution_count": null,
      "outputs": []
    },
    {
      "cell_type": "code",
      "metadata": {
        "id": "36MvLb0ma7hO",
        "colab_type": "code",
        "colab": {
          "base_uri": "https://localhost:8080/",
          "height": 142
        },
        "outputId": "1d0a4bc9-e91b-45a5-f132-b463970e1a6f"
      },
      "source": [
        "import jieba\n",
        "from urllib.request import  urlretrieve\n",
        "#  偶爾:  list(jieba.cut(news))\n",
        "url = \"https://github.com/fxsjy/jieba/raw/master/extra_dict/dict.txt.big\"\n",
        "urlretrieve(url, \"dict.txt.big\")\n",
        "jieba.set_dictionary(\"dict.txt.big\")\n",
        "jieba.load_userdict(\"mydict.txt\")\n",
        "\" \".join(jieba.cut(news))"
      ],
      "execution_count": null,
      "outputs": [
        {
          "output_type": "stream",
          "text": [
            "Building prefix dict from /content/dict.txt.big ...\n",
            "Dumping model to file cache /tmp/jieba.u501edca284da514cb68b53a20324f4e3.cache\n",
            "Loading model cost 1.728 seconds.\n",
            "Prefix dict has been built successfully.\n"
          ],
          "name": "stderr"
        },
        {
          "output_type": "execute_result",
          "data": {
            "application/vnd.google.colaboratory.intrinsic": {
              "type": "string"
            },
            "text/plain": [
              "'【 財訊 快報 ／ 編輯部 】 日本政府 基於 國安 考量 ， 計畫 邀請 海外 半導體 業者 與 日本 國內 業者 合作 ， 共同 打造 「 半導體 國家隊 」 。 日本 讀賣新聞 19 日 報導 ， 日本 計畫 邀請 全球 晶圓 代工 龍頭 台積電 赴 日 投資 建廠 ， 以 提振 日本 國內 落後 的 晶片 產業 。 但 台積電 對此 報導 暫 不 評論 。 \\n \\n 台積電 今年 5 月 才 宣布 斥資 120 億美元 赴美 投資 建廠 ， 本次 再 傳出 日本政府 也 對 台積電 青睞有加 ， 引起 市場 高度 關注 。 \\n'"
            ]
          },
          "metadata": {
            "tags": []
          },
          "execution_count": 15
        }
      ]
    },
    {
      "cell_type": "code",
      "metadata": {
        "id": "CQpGOr5C7Ob1",
        "colab_type": "code",
        "colab": {
          "base_uri": "https://localhost:8080/",
          "height": 371
        },
        "outputId": "1bd89bb7-52d8-42fb-a0ad-d9a57b9fe5d6"
      },
      "source": [
        "import jieba.analyse\n",
        "url = \"https://github.com/fxsjy/jieba/blob/master/extra_dict/idf.txt.big\"\n",
        "urlretrieve(url, \"idf.txt.big\")\n",
        "jieba.analyse.set_idf_path(\"idf.txt.big\")\n",
        "jieba.analyse.extract_tags(news)"
      ],
      "execution_count": null,
      "outputs": [
        {
          "output_type": "execute_result",
          "data": {
            "text/plain": [
              "['日本',\n",
              " '台積電',\n",
              " '日本政府',\n",
              " '計畫',\n",
              " '邀請',\n",
              " '半導體',\n",
              " '業者',\n",
              " '國內',\n",
              " '報導',\n",
              " '投資',\n",
              " '建廠',\n",
              " '財訊',\n",
              " '快報',\n",
              " '編輯部',\n",
              " '基於',\n",
              " '國安',\n",
              " '考量',\n",
              " '海外',\n",
              " '合作',\n",
              " '共同']"
            ]
          },
          "metadata": {
            "tags": []
          },
          "execution_count": 17
        }
      ]
    }
  ]
}